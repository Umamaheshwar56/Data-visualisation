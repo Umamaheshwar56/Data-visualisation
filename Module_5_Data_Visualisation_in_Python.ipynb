{
 "cells": [
  {
   "cell_type": "markdown",
   "id": "2c07adcd",
   "metadata": {},
   "source": [
    "# Introduction to Data Visualisation with Matplotlib"
   ]
  },
  {
   "cell_type": "markdown",
   "id": "ec26dd15",
   "metadata": {},
   "source": [
    "## Facts and Dimensions"
   ]
  },
  {
   "cell_type": "markdown",
   "id": "a4466d91",
   "metadata": {},
   "source": [
    "Facts and Dimensions\n",
    "Consider a bank having thousands of ATMs across India. In every transaction, the following variables are recorded:\n",
    "\n",
    "Withdrawal amount\n",
    "Account balance after withdrawal\n",
    "Transaction charge amount\n",
    "Customer ID\n",
    "ATM ID\n",
    "Date of withdrawal\n",
    "Which among the following are fact variables (mark all that apply)?\n",
    "\n",
    "\n",
    "Withdrawal amount    ✓ Correct\n",
    "\n",
    "Account balance after a withdrawal   ✓ Correct\n",
    "\n",
    "Transaction fee   ✓ Correct"
   ]
  },
  {
   "cell_type": "code",
   "execution_count": null,
   "id": "f8127010",
   "metadata": {},
   "outputs": [],
   "source": []
  },
  {
   "cell_type": "markdown",
   "id": "445c04d8",
   "metadata": {},
   "source": [
    "Dimensional Modelling\n",
    "What are the benefits of having dimension variables apart from facts?\n",
    "\n",
    "More than one option may be correct.\n",
    "\n",
    "\n",
    "Performing various types of analyses, such as sector-wise, country-wise or funding type-wise analyses.   ✓ Correct\n",
    "\n",
    "Summarising fact variables by calculating their sum, average, range, etc.\n",
    "\n",
    "\n",
    "Extracting specific, useful information such as the total investment made in the automobile sector in India between 2014 and 2015.  ✓ Correct"
   ]
  },
  {
   "cell_type": "code",
   "execution_count": null,
   "id": "094e0b2a",
   "metadata": {},
   "outputs": [],
   "source": []
  },
  {
   "cell_type": "markdown",
   "id": "f2aa22fc",
   "metadata": {},
   "source": [
    "## Bar Graph"
   ]
  },
  {
   "cell_type": "markdown",
   "id": "31002bca",
   "metadata": {},
   "source": [
    "Bar Graph\n",
    "How will you change the width of the bars in a bar graph?\n",
    "Check the Maptlotlib documentation for bar graphs.\n",
    "\n",
    "\n",
    "matplotlib.pyplot.bar(x, y, breadth = 0.8)\n",
    "\n",
    "matplotlib.pyplot.bar(x, y)\n",
    "bar_width = 0.8\n",
    "\n",
    "matplotlib.pyplot.bar(x, y, width = 0.8)   ✓ Correct"
   ]
  },
  {
   "cell_type": "code",
   "execution_count": null,
   "id": "d48f7900",
   "metadata": {},
   "outputs": [],
   "source": []
  },
  {
   "cell_type": "markdown",
   "id": "a2c7bac3",
   "metadata": {},
   "source": [
    "Bar Graph\n",
    "Is it possible to have a separate colour for each category in a bar graph?\n",
    "\n",
    "\n",
    "Yes  ✓ Correct"
   ]
  },
  {
   "cell_type": "code",
   "execution_count": null,
   "id": "890ab4e5",
   "metadata": {},
   "outputs": [],
   "source": []
  },
  {
   "cell_type": "markdown",
   "id": "8dd08a27",
   "metadata": {},
   "source": [
    "## Scatter Plot"
   ]
  },
  {
   "cell_type": "markdown",
   "id": "a3db932f",
   "metadata": {},
   "source": [
    "Scatterplot\n",
    "Select the cases where a scatterplot would be helpful in generating insights.\n",
    "(More than option one can be correct.)\n",
    "\n",
    "\n",
    "To check whether a relationship exists between the age of a person and their income.   ✓ Correct\n",
    "\n",
    "To check whether there are any irregular entries in the data range.\n",
    "\n",
    "\n",
    "To check whether stock prices are positively related to the profit of a company.   ✓ Correct"
   ]
  },
  {
   "cell_type": "code",
   "execution_count": null,
   "id": "1b19c9b9",
   "metadata": {},
   "outputs": [],
   "source": []
  },
  {
   "cell_type": "markdown",
   "id": "88480e38",
   "metadata": {},
   "source": [
    "Scatterplot\n",
    "Which attribute helps set the transparency of points in a scatterplot?\n",
    "Check the Maptlotlib documentation for scatterplots.\n",
    "\n",
    "\n",
    "weight\n",
    "\n",
    "\n",
    "marker\n",
    "\n",
    "\n",
    "color\n",
    "\n",
    "\n",
    "alpha   ✓ Correct"
   ]
  },
  {
   "cell_type": "code",
   "execution_count": null,
   "id": "e08ae1d3",
   "metadata": {},
   "outputs": [],
   "source": []
  },
  {
   "cell_type": "markdown",
   "id": "ae268314",
   "metadata": {},
   "source": [
    "## Line Graph and Histogram"
   ]
  },
  {
   "cell_type": "markdown",
   "id": "ba786c89",
   "metadata": {},
   "source": [
    "Specifying Line Style\n",
    "Let's say 'x' and 'y' are two lists that you want to plot. You have initialised matplotlib.pyplot as plt. Now, you want to plot a blue line with cross (x) as markers for your points. What is the function call for this?\n",
    "For your reference, here is the official documentation of the Pyplot API.\n",
    "\n",
    "\n",
    "plt.plot(x, y, 'bo') plt.show()\n",
    "\n",
    "plt.plot(x, y, 'bO') plt.show()\n",
    "\n",
    "plt.plot(x, y, 'b', marker = 'x') plt.show()   ✓ Correct"
   ]
  },
  {
   "cell_type": "code",
   "execution_count": null,
   "id": "29d6d5e1",
   "metadata": {},
   "outputs": [],
   "source": []
  },
  {
   "cell_type": "markdown",
   "id": "2929143f",
   "metadata": {},
   "source": [
    "Histogram\n",
    "You are provided with a list of weights of individuals stored as float:\n",
    "list_1 = [48.49, 67.54, 57.47, 68.17, 51.18, 68.31, 50.33, 66.7, 45.62, 43.59, 53.64, 70.08, 47.69, 61.27, 44.14, 51.62, 48.72, 65.11]\n",
    "\n",
    "You want to check which bucket has maximum entries when divided into the following four groups:\n",
    "\n",
    "[40-50)\n",
    "[50-60)\n",
    "[60-70)\n",
    "[70-80)\n",
    "Which code will help you find the correct answer? For your reference, here is the official documentation of the Pyplot API.\n",
    "\n",
    "\n",
    "plt.hist(list_1, edgecolor = 'white')\n",
    "\n",
    "plt.hist(list_1, bins = 4, edgecolor = 'white')\n",
    "\n",
    "plt.hist(list_1, bins = 4, range =[40, 80], edgecolor = 'white')   ✓ Correct"
   ]
  },
  {
   "cell_type": "code",
   "execution_count": null,
   "id": "52a353f3",
   "metadata": {},
   "outputs": [],
   "source": []
  },
  {
   "cell_type": "markdown",
   "id": "9faf822f",
   "metadata": {},
   "source": [
    "## Box Plot"
   ]
  },
  {
   "cell_type": "markdown",
   "id": "7da43f1b",
   "metadata": {},
   "source": [
    "Types of Plots\n",
    "Which of the following plots can be used to show the relationship between two quantitative variables?\n",
    "\n",
    "1. Box plot\n",
    "2. Line plot\n",
    "3. Scatter plot\n",
    "4. Histogram\n",
    "\n",
    "\n",
    "1 and 2\n",
    "\n",
    "\n",
    "2 and 3    ✓ Correct"
   ]
  },
  {
   "cell_type": "code",
   "execution_count": null,
   "id": "0200867c",
   "metadata": {},
   "outputs": [],
   "source": []
  },
  {
   "cell_type": "markdown",
   "id": "160ae0fb",
   "metadata": {},
   "source": [
    "Deciding the Type of Plot to Use\n",
    "You have some data of credit card transactions. In this data, you're trying to find transaction values that are way outside the usual data range, in order to investigate some fraud.\n",
    "Which type of plot will you use in this case?\n",
    " \n",
    "\n",
    "\n",
    "Line Chart\n",
    "\n",
    "\n",
    "Scatter Plot\n",
    "\n",
    "\n",
    "Histogram\n",
    "\n",
    "\n",
    "Box Plot    ✓ Correct"
   ]
  },
  {
   "cell_type": "code",
   "execution_count": null,
   "id": "937ef1c3",
   "metadata": {},
   "outputs": [],
   "source": []
  },
  {
   "cell_type": "markdown",
   "id": "d2d78f0f",
   "metadata": {},
   "source": [
    "## Subplots"
   ]
  },
  {
   "cell_type": "markdown",
   "id": "615268b1",
   "metadata": {},
   "source": [
    "Arrays of Plots\n",
    "As you learnt, in plt.subplot(), the numbering starts from the top-left element of the grid and moves rightward along each row. Out of the following subplots, which one does NOT represent a plot that is part of the second column from the left in the array of subplots?\n",
    "\n",
    "\n",
    "plt.subplot(4,4,2)\n",
    "\n",
    "plt.subplot(4,4,14)\n",
    "\n",
    "plt.subplot(3,3,7)    ✓ Correct"
   ]
  },
  {
   "cell_type": "markdown",
   "id": "aee15de3",
   "metadata": {},
   "source": [
    "# Data Visualisation: Case Study"
   ]
  },
  {
   "cell_type": "markdown",
   "id": "10d332bf",
   "metadata": {},
   "source": [
    "## Case Study Overview"
   ]
  },
  {
   "cell_type": "markdown",
   "id": "b2c64297",
   "metadata": {},
   "source": [
    "Target Variable\n",
    "In the world of machine learning, the target variable is defined as the variable or column in a dataset whose value is to be predicted or analysed by using the other variables in the same dataset. For our case study, can you guess which of the following is the target variable?\n",
    "\n",
    "\n",
    "App\n",
    "\n",
    "\n",
    "Size\n",
    "\n",
    "\n",
    "Content Rating\n",
    "\n",
    "Rating    ✓ Correct"
   ]
  },
  {
   "cell_type": "code",
   "execution_count": null,
   "id": "301f5ed2",
   "metadata": {},
   "outputs": [],
   "source": []
  },
  {
   "cell_type": "markdown",
   "id": "5984c69f",
   "metadata": {},
   "source": [
    "## Data Handling and Cleaning: I"
   ]
  },
  {
   "cell_type": "markdown",
   "id": "57739441",
   "metadata": {},
   "source": [
    "Frequency of Mode\n",
    "Once you impute the missing values for Current Ver. as mentioned towards the end of the above video, answer the following question. If you’re having some difficulties in doing the same, check the feedback\n",
    "\n",
    "After the imputation step, how many values in Current Ver. are of the type “Varies with Device”?\n",
    " \n",
    "\n",
    "\n",
    "1415\n",
    "\n",
    "\n",
    "1418\n",
    "\n",
    "\n",
    "1422\n",
    "\n",
    "\n",
    "1419   ✓ Correct"
   ]
  },
  {
   "cell_type": "code",
   "execution_count": null,
   "id": "2d4e8d76",
   "metadata": {},
   "outputs": [],
   "source": []
  },
  {
   "cell_type": "markdown",
   "id": "0c2c43d4",
   "metadata": {},
   "source": [
    "Mean\n",
    "What is the average Price for all the apps which have the Android version as “4.1 and up” ?\n",
    "\n",
    "\n",
    "$12.11\n",
    "\n",
    "\n",
    "$0.56\n",
    "\n",
    "\n",
    "$0.67\n",
    "\n",
    "\n",
    "Some error comes up while calculating the value    ✓ Correct"
   ]
  },
  {
   "cell_type": "markdown",
   "id": "71f7901f",
   "metadata": {},
   "source": [
    "## Data Handling and Cleaning: II"
   ]
  },
  {
   "cell_type": "markdown",
   "id": "2cb20271",
   "metadata": {},
   "source": [
    "Fixing the Installs column.\n",
    "After removing the additional symbols in the Installs column, calculate the approximate number of installs at the 50th percentile.\n",
    "\n",
    "[Hint - You can use the replace() function here. Check this link to understand how to use it.]\n",
    "\n",
    "\n",
    "100,000\n",
    "\n",
    "\n",
    "500,000   ✓ Correct"
   ]
  },
  {
   "cell_type": "markdown",
   "id": "2047b7b4",
   "metadata": {},
   "source": [
    "## Outliers Analysis with Boxplots"
   ]
  },
  {
   "cell_type": "markdown",
   "id": "54721348",
   "metadata": {},
   "source": [
    "Box Plots\n",
    "For the given dataset, calculate the IQR of the Price column.\n",
    "\n",
    "\n",
    "0   ✓ Correct"
   ]
  },
  {
   "cell_type": "code",
   "execution_count": null,
   "id": "d6aa09aa",
   "metadata": {},
   "outputs": [],
   "source": []
  },
  {
   "cell_type": "markdown",
   "id": "600ee78e",
   "metadata": {},
   "source": [
    "## Histograms"
   ]
  },
  {
   "cell_type": "markdown",
   "id": "316747ae",
   "metadata": {},
   "source": [
    "Histograms\n",
    "Plot a histogram for the Reviews column again and choose the correct option:\n",
    "\n",
    "\n",
    "The peak  is now towards the end of the histograms\n",
    "\n",
    "\n",
    "The peak is still at the beginning of the histogram    ✓ Correct"
   ]
  },
  {
   "cell_type": "code",
   "execution_count": null,
   "id": "050b47cf",
   "metadata": {},
   "outputs": [],
   "source": []
  },
  {
   "cell_type": "markdown",
   "id": "968cb243",
   "metadata": {},
   "source": [
    "Analysing the Installs Column\n",
    "Calculate the IQR of the Installs column.\n",
    "\n",
    "\n",
    "9.9\n",
    "∗       ✓ Correct\n",
    "10\n",
    "5"
   ]
  },
  {
   "cell_type": "code",
   "execution_count": null,
   "id": "b46dca6b",
   "metadata": {},
   "outputs": [],
   "source": []
  },
  {
   "cell_type": "markdown",
   "id": "8b4aace5",
   "metadata": {},
   "source": [
    "Analysing the Installs Column\n",
    "Now, remove all the apps which have the number of installs greater than 100 million. After that, evaluate the shape of the data and choose the correct option.\n",
    "\n",
    "\n",
    "The resulting dataframe has 7345 records remaining.\n",
    "\n",
    "\n",
    "The resulting dataframe has 8645 records remaining.\n",
    "\n",
    "\n",
    "The resulting dataframe has 8624 records remaining.   ✓ Correct"
   ]
  },
  {
   "cell_type": "code",
   "execution_count": null,
   "id": "1727de83",
   "metadata": {},
   "outputs": [],
   "source": []
  },
  {
   "cell_type": "markdown",
   "id": "9a8591c2",
   "metadata": {},
   "source": [
    "Analysing the Size Column\n",
    "Plot a histogram for the Size column and then choose the correct option.\n",
    "\n",
    "\n",
    "A majority of apps have a size less than 30,000.   ✓ Correct"
   ]
  },
  {
   "cell_type": "code",
   "execution_count": null,
   "id": "1a2442e7",
   "metadata": {},
   "outputs": [],
   "source": []
  },
  {
   "cell_type": "markdown",
   "id": "e9b6af41",
   "metadata": {},
   "source": [
    "Analysing the Size column\n",
    "Analyse the size column using a boxplot and report back the approximate median value.\n",
    "\n",
    "\n",
    "12,000\n",
    "\n",
    "\n",
    "26,000\n",
    "\n",
    "\n",
    "14,000\n",
    "\n",
    "\n",
    "18,000   ✓ Correct"
   ]
  },
  {
   "cell_type": "code",
   "execution_count": null,
   "id": "aa90fd79",
   "metadata": {},
   "outputs": [],
   "source": []
  },
  {
   "cell_type": "markdown",
   "id": "ddc4fc8a",
   "metadata": {},
   "source": [
    "Histograms vs Bar Plots\n",
    "You have already studied bar plots in the previous module. Now it is a common misconception to confuse them with histograms. To understand the difference try analysing the following two situations and then choose the correct option:\n",
    "\n",
    " \n",
    "\n",
    "Situation A - You want to visualise the total number of runs scored by MS Dhoni in a single year against all the teams he has played against.\n",
    "\n",
    "Situation B - You want to visualise the spread of the runs scored by MS Dhoni in a single year.\n",
    "\n",
    "\n",
    "Both situations require a histogram.\n",
    "\n",
    "\n",
    "Both situations require a bar plot.\n",
    "\n",
    "\n",
    "Situation A requires a bar plot whereas Situation B requires a histogram.    ✓ Correct"
   ]
  },
  {
   "cell_type": "code",
   "execution_count": null,
   "id": "c5b55ae4",
   "metadata": {},
   "outputs": [],
   "source": []
  },
  {
   "cell_type": "markdown",
   "id": "edbbe3b3",
   "metadata": {},
   "source": [
    "## Practice Questions"
   ]
  },
  {
   "cell_type": "markdown",
   "id": "aea212e3",
   "metadata": {},
   "source": [
    "Spread in runs\n",
    "Analyse the spread of runs scored by Virat in all his matches, and report the difference between the scores at the 50th percentile and the 25th percentile, respectively.\n",
    " \n",
    "\n",
    "[Hint: You might observe that in some of the scores, there's an asterisk (*) associated with it indicating that Virat was Not Out in that match.]\n",
    "\n",
    "\n",
    "16.5\n",
    "\n",
    "\n",
    "22.5   ✓ Correct"
   ]
  },
  {
   "cell_type": "code",
   "execution_count": null,
   "id": "e640d1a9",
   "metadata": {},
   "outputs": [],
   "source": []
  },
  {
   "cell_type": "markdown",
   "id": "63ed12ab",
   "metadata": {},
   "source": [
    "Box Plots\n",
    "Plot a Box Plot to analyse the spread of Runs that Virat has scored. The upper fence in the box plot lies in which interval?\n",
    "\n",
    "\n",
    "100-120\n",
    "\n",
    "\n",
    "120-140\n",
    "\n",
    "\n",
    "140-160    ✓ Correct"
   ]
  },
  {
   "cell_type": "code",
   "execution_count": null,
   "id": "66d89eeb",
   "metadata": {},
   "outputs": [],
   "source": []
  },
  {
   "cell_type": "markdown",
   "id": "b6b48cf9",
   "metadata": {},
   "source": [
    "False Statement\n",
    "Consider the following statements and choose the correct option:\n",
    "I - Virat has played the maximum number of matches in 2011.\n",
    "II - Virat has the highest run average in the year 2017.\n",
    "III - Across all the years, Virat has scored his highest score in a single match and also has the highest run average in the same year - 2016.\n",
    "\n",
    "Which of the above statements is/are false?\n",
    " \n",
    "\n",
    "[Hint: For solving this question, you first need to extract the year from the 'Start Date' column and store it in a separate column before proceeding to verify each of the statements mentioned above]\n",
    "\n",
    "\n",
    "I and II\n",
    "\n",
    "\n",
    "I and III\n",
    "\n",
    "\n",
    "II    ✓ Correct"
   ]
  },
  {
   "cell_type": "code",
   "execution_count": null,
   "id": "0de5fcdf",
   "metadata": {},
   "outputs": [],
   "source": []
  },
  {
   "cell_type": "markdown",
   "id": "64937a78",
   "metadata": {},
   "source": [
    "Maximum frequency\n",
    "Plot a histogram for the Mins column with 15 bins. Among the three ranges mentioned below, which one has the highest frequency?\n",
    "\n",
    "A - [54.6,68)\n",
    "\n",
    "B - [68,81.4)\n",
    "\n",
    "C - [121.6,135)\n",
    "\n",
    "\n",
    "A - [54.6,68)\n",
    "\n",
    "\n",
    "B - [68,81.4)\n",
    "\n",
    "\n",
    "C - [121.6,135)   ✓ Correct"
   ]
  },
  {
   "cell_type": "code",
   "execution_count": null,
   "id": "fc4deb47",
   "metadata": {},
   "outputs": [],
   "source": []
  },
  {
   "cell_type": "markdown",
   "id": "31f7ae4d",
   "metadata": {},
   "source": [
    "# Data Visualisation with Seaborn"
   ]
  },
  {
   "cell_type": "markdown",
   "id": "703bc129",
   "metadata": {},
   "source": [
    "Distplot\n",
    "If you want a view like the one shown below for the Rating column, the corresponding code that you would need to add would be?\n",
    "\n",
    "\n",
    "\n",
    "\n",
    "sns.distplot(inp1.Rating,rug = False)\n",
    "\n",
    "\n",
    "sns.distplot(inp1.Rating,kde = True)\n",
    "\n",
    "\n",
    "sns.distplot(inp1.Rating,rug = True, fit = norm)\n",
    "\n",
    "\n",
    "sns.distplot(inp1.Rating,kde = False)    ✓ Correct"
   ]
  },
  {
   "cell_type": "code",
   "execution_count": null,
   "id": "e756685e",
   "metadata": {},
   "outputs": [],
   "source": []
  },
  {
   "cell_type": "markdown",
   "id": "6af76844",
   "metadata": {},
   "source": [
    "Distplot bins\n",
    "Observe that there are certain gaps in the distplot view that we have shown above. This is because the number of bins created is quite high and hence some bins/buckets have no density at all. Now, you wish to set the number of bins to 15 to remove those gaps. Which of the following distplots shows the number of bins set to 15? (Click on the image to enlarge it)\n",
    "\n",
    "\n",
    "\n",
    "A\n",
    "\n",
    "\n",
    "B   ✓ Correct"
   ]
  },
  {
   "cell_type": "code",
   "execution_count": null,
   "id": "fee2684a",
   "metadata": {},
   "outputs": [],
   "source": []
  },
  {
   "cell_type": "markdown",
   "id": "d039ec06",
   "metadata": {},
   "source": [
    "Customise\n",
    "To get the following view, which parameter needs to be set correctly?\n",
    "\n",
    "\n",
    "vertical = True     ✓ Correct"
   ]
  },
  {
   "cell_type": "code",
   "execution_count": null,
   "id": "fd78804c",
   "metadata": {},
   "outputs": [],
   "source": []
  },
  {
   "cell_type": "markdown",
   "id": "b084ff7b",
   "metadata": {},
   "source": [
    "## Pie - Chart and Bar Chart"
   ]
  },
  {
   "cell_type": "markdown",
   "id": "380bc925",
   "metadata": {},
   "source": [
    "Barplot\n",
    "Plot a bar plot for apps belonging to different types of ‘Android Ver’ and report back the category at the 4th highest peak.\n",
    " \n",
    "\n",
    "\n",
    "4.1  and up\n",
    "\n",
    "\n",
    "4.0 and up\n",
    "\n",
    "Varies with device     ✓ Correct"
   ]
  },
  {
   "cell_type": "markdown",
   "id": "429067cd",
   "metadata": {},
   "source": [
    "## Scatter Plots"
   ]
  },
  {
   "cell_type": "markdown",
   "id": "61f7b011",
   "metadata": {},
   "source": [
    "Jointplot\n",
    "In case you want to remove the histogram/distribution plot appearing on the jointplot’s axes, the command that you need to use is?\n",
    "\n",
    "\n",
    "hist = False\n",
    "\n",
    "\n",
    "dist = False\n",
    "\n",
    "\n",
    "kde = False\n",
    "\n",
    "\n",
    "None of the above.    ✓ Correct"
   ]
  },
  {
   "cell_type": "markdown",
   "id": "24bbc65d",
   "metadata": {},
   "source": [
    "## Revisiting Bar Graphs and Box Plots"
   ]
  },
  {
   "cell_type": "markdown",
   "id": "c8b15a7b",
   "metadata": {},
   "source": [
    "Estimator\n",
    "Change the estimator function in the graph above to analyse minimum Rating for each of the different categories of ‘Content Rating’. Which category has the highest minimum rating?\n",
    " \n",
    "\n",
    "\n",
    "Everyone\n",
    "\n",
    "\n",
    "Mature 17+\n",
    "\n",
    "\n",
    "Teen   ✓ Correct"
   ]
  },
  {
   "cell_type": "code",
   "execution_count": null,
   "id": "20356cf7",
   "metadata": {},
   "outputs": [],
   "source": []
  },
  {
   "cell_type": "markdown",
   "id": "9de62dd5",
   "metadata": {},
   "source": [
    "Capping\n",
    "Plot a boxplot for the Rating column. The lower fence gets capped between\n",
    "\n",
    "\n",
    "2.0 - 2.5\n",
    "\n",
    "\n",
    "2.5- 3.0\n",
    "\n",
    "\n",
    "3.0 - 3.5   ✓ Correct"
   ]
  },
  {
   "cell_type": "code",
   "execution_count": null,
   "id": "5d33a934",
   "metadata": {},
   "outputs": [],
   "source": []
  },
  {
   "cell_type": "markdown",
   "id": "86031dd7",
   "metadata": {},
   "source": [
    "Lower Fence\n",
    "For the 4 most popular Genres, plot a box plot and report back the Genre having the highest Rating at the lower fence.\n",
    " \n",
    "\n",
    "[Hint: For finding the top 4 most popular Genres, you may use the value_counts() function. After that subset the dataframe to only contain the data for these specific Genre types]\n",
    "\n",
    "\n",
    "Tools\n",
    "\n",
    "\n",
    "Medical\n",
    "\n",
    "\n",
    "Education    ✓ Correct"
   ]
  },
  {
   "cell_type": "markdown",
   "id": "2a79e882",
   "metadata": {},
   "source": [
    "## Practice Questions"
   ]
  },
  {
   "cell_type": "markdown",
   "id": "660b9fd9",
   "metadata": {},
   "source": [
    "Average\n",
    "The absolute difference in the average profit percentages of Delhi and Mumbai comes out to be approximately ____\n",
    "\n",
    "\n",
    "1.67\n",
    "\n",
    "\n",
    "1.57\n",
    "\n",
    "\n",
    "1.77   ✓ Correct"
   ]
  },
  {
   "cell_type": "code",
   "execution_count": null,
   "id": "cdd39ff2",
   "metadata": {},
   "outputs": [],
   "source": []
  },
  {
   "cell_type": "markdown",
   "id": "71170fb8",
   "metadata": {},
   "source": [
    "Box Plots\n",
    "Plot a box plot to analyse the spread of profits for each of the cities. Which city has the highest profit value at the upper fence in the box plot?\n",
    "\n",
    "\n",
    "Delhi\n",
    "\n",
    "\n",
    "Mumbai\n",
    "\n",
    "\n",
    "Hyderabad     ✓ Correct"
   ]
  },
  {
   "cell_type": "code",
   "execution_count": null,
   "id": "badba612",
   "metadata": {},
   "outputs": [],
   "source": []
  },
  {
   "cell_type": "markdown",
   "id": "e8a20eaf",
   "metadata": {},
   "source": [
    "Pair Plots\n",
    "Create a pair plot with all these columns and choose the correct statements from the given ones:\n",
    "\n",
    "I-There is a good trend between litecoin and monero, one increases as the other\n",
    "II- There is a weak trend between bitcoin and neo.\n",
    " \n",
    "\n",
    "\n",
    "I    ✓ Correct"
   ]
  },
  {
   "cell_type": "code",
   "execution_count": null,
   "id": "beae268e",
   "metadata": {},
   "outputs": [],
   "source": []
  },
  {
   "cell_type": "markdown",
   "id": "46001a42",
   "metadata": {},
   "source": [
    "Heatmap\n",
    "As mentioned earlier, HeatMaps are predominantly utilised for analysing Correlation Matrix. A high positive correlation (values near 1) means a good positive trend - if one increases, then the other also increases. A negative correlation on the other hand(values near -1) indicate good negative trend - if one increases, then the other decreases. A value near 0 indicates no correlation, as in one variable doesn’t affect the other. \n",
    "\n",
    "Create a correlation matrix for all the prices and then plot a heatmap to analyse the trends. Which of the following options is/are correct?\n",
    "\n",
    "[Note that the code and the instructions for creating a correlation matrix are already present in the notebook. All you need to do is create a heatmap]\n",
    "\n",
    "\n",
    "Ethereum and Quantum have a high correlation.    ✓ Correct"
   ]
  },
  {
   "cell_type": "code",
   "execution_count": null,
   "id": "bcd88d2d",
   "metadata": {},
   "outputs": [],
   "source": []
  },
  {
   "cell_type": "markdown",
   "id": "ebd8d353",
   "metadata": {},
   "source": [
    "# Data Visualisation Graded Questions"
   ]
  },
  {
   "cell_type": "markdown",
   "id": "1d429eb4",
   "metadata": {},
   "source": [
    "Histogram\n",
    "Load the dataset and plot a histogram for the 'Score A' column by keeping the number of bins to 6. Which bin range among the following has the highest frequency?\n",
    "\n",
    "(Note - The bin ranges mentioned in the options are approximate values for the bin ranges that you'll actually get when you plot the histogram)\n",
    "\n",
    "\n",
    "0 - 50\n",
    "\n",
    "\n",
    "50-100\n",
    "\n",
    "\n",
    "150-200\n",
    "\n",
    "\n",
    "200-250     ✓ Correct"
   ]
  },
  {
   "cell_type": "code",
   "execution_count": null,
   "id": "742ec470",
   "metadata": {},
   "outputs": [],
   "source": []
  },
  {
   "cell_type": "markdown",
   "id": "93793a68",
   "metadata": {},
   "source": [
    "Box Plots\n",
    "Plot a box plot for the column 'Score C' and choose the most appropriate option.\n",
    "\n",
    "\n",
    "A - The 25th percentile lies between 20 and 40.\n",
    "\n",
    "\n",
    "B - The 75th percentile lies between 40 and 60.\n",
    "\n",
    "\n",
    "C - The 25th percentile lies between 0 and 20.\n",
    "\n",
    "\n",
    "D - Both B and C   ✓ Correct"
   ]
  },
  {
   "cell_type": "code",
   "execution_count": null,
   "id": "111e5537",
   "metadata": {},
   "outputs": [],
   "source": []
  },
  {
   "cell_type": "markdown",
   "id": "fcfeba88",
   "metadata": {},
   "source": [
    "Jointplot\n",
    "The following Jointplot was plotted using seaborn for 'Sales' vs 'Profit' from the dataset loaded to the 'df2' dataframe.\n",
    "\n",
    "\n",
    "Now suppose that you want to plot only those data points for which the Sales were less than 15,000 and that made a loss. Which of the following codes will achieve this?\n",
    "\n",
    "\n",
    "df3 = df2[(df2.Profit < 0) & (df2.Sales < 15000)]\n",
    "sns.jointplot('Sales', 'Profit', df3)                     ✓ Correct\n",
    "plt.show()\n"
   ]
  },
  {
   "cell_type": "code",
   "execution_count": null,
   "id": "087e7413",
   "metadata": {},
   "outputs": [],
   "source": []
  },
  {
   "cell_type": "markdown",
   "id": "9473a844",
   "metadata": {},
   "source": [
    "Data Visualisation\n",
    "You can observe that the column Ship Mode has 4 categories - First Class, Second Class, Same Day and Standard Class, and the Segment has 3 - Consumer, Home Office, Corporate.\n",
    "\n",
    "Now let's say you want to visualise how the average Profit varies across every Segment - Ship Mode combination (like Consumer - First Class, Corporate - Standard Class and so on). Which of the following visualisations can be utilised for the same?\n",
    "\n",
    "\n",
    "Histogram\n",
    "\n",
    "\n",
    "Box Plot\n",
    "\n",
    "\n",
    "Scatterplot\n",
    "\n",
    "\n",
    "Heat map     ✓ Correct"
   ]
  },
  {
   "cell_type": "code",
   "execution_count": null,
   "id": "4e1d2172",
   "metadata": {},
   "outputs": [],
   "source": []
  },
  {
   "cell_type": "markdown",
   "id": "4da07a24",
   "metadata": {},
   "source": [
    "Bar Plot\n",
    "Which of the following codes would help you create a bar plot in seaborn that compares the average Sales across the different Segment types?\n",
    "\n",
    "\n",
    "A - \n",
    "sns.barplot(data = df2, x = 'Segment', y = 'Sales', estimator = np.mean)\n",
    "\n",
    "B -\n",
    "\n",
    "sns.barplot(data = df2, x = 'Segment', y = 'Sales')\n",
    "\n",
    "C-\n",
    "\n",
    "sns.barplot(data = df2, x = 'Segment', y = 'Sales', estimator = np.avg)\n",
    "\n",
    "Both A and B     ✓ Correct"
   ]
  },
  {
   "cell_type": "code",
   "execution_count": null,
   "id": "587ee167",
   "metadata": {},
   "outputs": [],
   "source": []
  },
  {
   "cell_type": "markdown",
   "id": "84f21771",
   "metadata": {},
   "source": [
    "Pie-Chart\n",
    "Plot a pie-chart to find the Ship Mode through which most of the orders are being delivered.\n",
    "\n",
    "\n",
    "Standard Class     ✓ Correct"
   ]
  },
  {
   "cell_type": "code",
   "execution_count": null,
   "id": "3c474848",
   "metadata": {},
   "outputs": [],
   "source": []
  },
  {
   "cell_type": "markdown",
   "id": "ee496cbf",
   "metadata": {},
   "source": [
    "Bar Plot\n",
    "Plot a bar chart comparing the average Discount across all the Regions and report back the Region getting the highest average discount.\n",
    "\n",
    "Note - You need to clean the Discount column first\n",
    "\n",
    "\n",
    "Central      ✓ Correct"
   ]
  },
  {
   "cell_type": "code",
   "execution_count": null,
   "id": "d01218e4",
   "metadata": {},
   "outputs": [],
   "source": []
  },
  {
   "cell_type": "code",
   "execution_count": 1,
   "id": "9c491536",
   "metadata": {},
   "outputs": [],
   "source": [
    "import jovian"
   ]
  },
  {
   "cell_type": "code",
   "execution_count": null,
   "id": "cccbf3ad",
   "metadata": {},
   "outputs": [
    {
     "data": {
      "application/javascript": [
       "window.require && require([\"base/js/namespace\"],function(Jupyter){Jupyter.notebook.save_checkpoint()})"
      ],
      "text/plain": [
       "<IPython.core.display.Javascript object>"
      ]
     },
     "metadata": {},
     "output_type": "display_data"
    }
   ],
   "source": [
    "jovian.commit()"
   ]
  },
  {
   "cell_type": "code",
   "execution_count": null,
   "id": "7f374be9",
   "metadata": {},
   "outputs": [],
   "source": []
  }
 ],
 "metadata": {
  "language_info": {
   "codemirror_mode": {
    "name": "ipython",
    "version": 3
   },
   "file_extension": ".py",
   "mimetype": "text/x-python",
   "name": "python",
   "nbconvert_exporter": "python",
   "pygments_lexer": "ipython3",
   "version": "3.9.7"
  }
 },
 "nbformat": 4,
 "nbformat_minor": 5
}